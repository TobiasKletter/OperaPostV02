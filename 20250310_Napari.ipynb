{
 "cells": [
  {
   "cell_type": "code",
   "execution_count": 1,
   "id": "ecf0f444-12af-46ea-b201-194e23660a6f",
   "metadata": {},
   "outputs": [],
   "source": [
    "import napari\n",
    "from skimage import io"
   ]
  },
  {
   "cell_type": "code",
   "execution_count": 2,
   "id": "fd95abbe-1f75-4268-9cea-009c3c8d7138",
   "metadata": {},
   "outputs": [],
   "source": [
    "img_path = '/Volumes/arxivBeta/_Tobias/Opera/20250204/Crop/ID0080_TK_CID_RNAiScreen_63x_ReScan_24h - R02-C02-F4_B2_IM_LUC1_init_obj1_crop.tif'\n",
    "\n",
    "img = io.imread(img_path)"
   ]
  },
  {
   "cell_type": "code",
   "execution_count": 3,
   "id": "10630520-7cb8-42ef-9a12-f59a9d3d36f0",
   "metadata": {},
   "outputs": [
    {
     "data": {
      "text/plain": [
       "<Image layer 'img' at 0x114fda310>"
      ]
     },
     "execution_count": 3,
     "metadata": {},
     "output_type": "execute_result"
    },
    {
     "name": "stderr",
     "output_type": "stream",
     "text": [
      "2025-03-11 10:20:55.335 python[11986:16581431] +[IMKClient subclass]: chose IMKClient_Modern\n",
      "2025-03-11 10:20:55.335 python[11986:16581431] +[IMKInputSession subclass]: chose IMKInputSession_Modern\n"
     ]
    }
   ],
   "source": [
    "# create the napari viewer\n",
    "viewer = napari.Viewer()\n",
    "\n",
    "viewer.add_image(img)"
   ]
  },
  {
   "cell_type": "code",
   "execution_count": 4,
   "id": "7d97fdb1-0b0d-4eea-ab30-8730a10adc22",
   "metadata": {},
   "outputs": [
    {
     "data": {
      "text/plain": [
       "(18, 2, 150, 150)"
      ]
     },
     "execution_count": 4,
     "metadata": {},
     "output_type": "execute_result"
    }
   ],
   "source": [
    "img.shape"
   ]
  }
 ],
 "metadata": {
  "kernelspec": {
   "display_name": "Python 3 (ipykernel)",
   "language": "python",
   "name": "python3"
  },
  "language_info": {
   "codemirror_mode": {
    "name": "ipython",
    "version": 3
   },
   "file_extension": ".py",
   "mimetype": "text/x-python",
   "name": "python",
   "nbconvert_exporter": "python",
   "pygments_lexer": "ipython3",
   "version": "3.11.11"
  }
 },
 "nbformat": 4,
 "nbformat_minor": 5
}
