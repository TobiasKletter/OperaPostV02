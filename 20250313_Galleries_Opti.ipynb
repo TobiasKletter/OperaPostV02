{
 "cells": [
  {
   "cell_type": "code",
   "execution_count": 11,
   "id": "5c1f252b-45b4-4811-8170-305458f44877",
   "metadata": {
    "editable": true,
    "slideshow": {
     "slide_type": ""
    },
    "tags": []
   },
   "outputs": [],
   "source": [
    "import os\n",
    "import re\n",
    "import numpy as np\n",
    "import tifffile as tiff\n",
    "import cv2\n",
    "import math"
   ]
  },
  {
   "cell_type": "code",
   "execution_count": 12,
   "id": "0ec086f2-1507-48f3-b5fa-4b75d9595f74",
   "metadata": {
    "editable": true,
    "slideshow": {
     "slide_type": ""
    },
    "tags": []
   },
   "outputs": [],
   "source": [
    "def parse_string(input_string):\n",
    "    pattern = r\"R\\d{2}-C\\d{2}-F\\d+_(\\d{5})_(IM|CM)_(KIF11_orig|LUC_orig)\"\n",
    "    match = re.search(pattern, input_string)\n",
    "    if match:\n",
    "        number, mode, gene = match.groups()\n",
    "        return number, mode, gene\n",
    "    else:\n",
    "        raise ValueError(\"Input string does not match the expected format\")\n",
    "\n",
    "def max_projection_montage(input_folder, output_folder):\n",
    "    os.makedirs(output_folder, exist_ok = True)\n",
    "    grouped_files = {}\n",
    "\n",
    "    # Group files by number and mode\n",
    "    for filename in os.listdir(input_folder):\n",
    "        if filename.endswith(\".tif\"):\n",
    "            try:\n",
    "                number, mode, gene = parse_string(filename)\n",
    "                key = (number, mode)\n",
    "                if key not in grouped_files:\n",
    "                    grouped_files[key] = {\"KIF11_orig\": [], \"LUC_orig\": []}\n",
    "                grouped_files[key][gene].append(filename)\n",
    "            except ValueError:\n",
    "                continue\n",
    "\n",
    "    # Process each group\n",
    "    for (number, mode), genes in grouped_files.items():\n",
    "        projections = {\"KIF11_orig\": [], \"LUC_orig\": []}\n",
    "        \n",
    "        max_projections = 40  # Set the limit\n",
    "\n",
    "        for gene, file_list in genes.items():\n",
    "            file_list.sort()\n",
    "\n",
    "            # Limit the number of files\n",
    "          #  if len(file_list) > max_projections:\n",
    "          #      file_list = file_list[:max_projections]  # First N images\n",
    "                \n",
    "            for filename in file_list:\n",
    "                input_path = os.path.join(input_folder, filename)\n",
    "                with tiff.TiffFile(input_path) as tif_file:\n",
    "                    img = tif_file.asarray()\n",
    "                \n",
    "                if len(img.shape) == 4 and img.shape[1] == 4:\n",
    "                    img = np.moveaxis(img, 1, 0)\n",
    "                    img = img[:, 5:16, :, :]\n",
    "                    ch3 = np.max(img[1], axis=0)\n",
    "                    ch2 = np.max(img[3], axis=0)\n",
    "\n",
    "                    # Find the brightest object in channel 3\n",
    "                    min_val, max_val, min_loc, max_loc = cv2.minMaxLoc(ch3)\n",
    "                    center_x, center_y = max_loc\n",
    "                    \n",
    "                    if max_val == 0:\n",
    "                        continue\n",
    "                    \n",
    "                    # Define cropping bounds (250x250 pixels around the brightest object)\n",
    "                    half_size = 125\n",
    "                    h, w = ch3.shape\n",
    "                    x1, x2 = center_x - half_size, center_x + half_size\n",
    "                    y1, y2 = center_y - half_size, center_y + half_size\n",
    "\n",
    "                    pad_x1, pad_x2, pad_y1, pad_y2 = 0, 0, 0, 0\n",
    "                    if x1 < 0:\n",
    "                        pad_x1 = abs(x1)\n",
    "                        x1 = 0\n",
    "                    if x2 > w:\n",
    "                        pad_x2 = x2 - w\n",
    "                        x2 = w\n",
    "                    if y1 < 0:\n",
    "                        pad_y1 = abs(y1)\n",
    "                        y1 = 0\n",
    "                    if y2 > h:\n",
    "                        pad_y2 = y2 - h\n",
    "                        y2 = h\n",
    "                    \n",
    "                    ch3_crop = ch3[y1:y2, x1:x2]\n",
    "                    ch2_crop = ch2[y1:y2, x1:x2]\n",
    "                    \n",
    "                    ch3_padded = cv2.copyMakeBorder(ch3_crop, pad_y1, pad_y2, pad_x1, pad_x2, cv2.BORDER_CONSTANT, value=0)\n",
    "                    ch2_padded = cv2.copyMakeBorder(ch2_crop, pad_y1, pad_y2, pad_x1, pad_x2, cv2.BORDER_CONSTANT, value=0)\n",
    "                    \n",
    "\n",
    "                    ch3_gray = cv2.normalize(ch3_padded, None, 0, 255, cv2.NORM_MINMAX).astype(np.uint8)\n",
    "                    ch2_gray = cv2.normalize(ch2_padded, None, 0, 255, cv2.NORM_MINMAX).astype(np.uint8)\n",
    "                    merged = cv2.merge((ch3_gray, ch3_gray, np.zeros_like(ch3_gray)))\n",
    "                    grayscale = cv2.merge((ch2_gray, ch2_gray, ch2_gray))\n",
    "                    final_merged = np.maximum(merged, grayscale)\n",
    "\n",
    "                    projections[gene].append(final_merged)\n",
    "\n",
    "        # Create montage\n",
    "        if projections[\"KIF11_orig\"] or projections[\"LUC_orig\"]:\n",
    "            max_images = max(len(projections[\"KIF11_orig\"]), len(projections[\"LUC_orig\"]))\n",
    "            rows = math.ceil(max_images / 5)  # Dynamically determine rows\n",
    "            img_h, img_w, _ = projections[\"KIF11_orig\"][0].shape if projections[\"KIF11_orig\"] else projections[\"LUC_orig\"][0].shape\n",
    "            montage = np.zeros((img_h * rows, img_w * 10, 3), dtype=np.uint8)  # 10 columns total\n",
    "\n",
    "            for idx, img in enumerate(projections[\"KIF11_orig\"]):\n",
    "                row, col = divmod(idx, 5)\n",
    "                y1, y2 = row * img_h, (row + 1) * img_h\n",
    "                x1, x2 = col * img_w, (col + 1) * img_w\n",
    "                montage[y1:y2, x1:x2] = img\n",
    "\n",
    "            for idx, img in enumerate(projections[\"LUC_orig\"]):\n",
    "                row, col = divmod(idx, 5)\n",
    "                y1, y2 = row * img_h, (row + 1) * img_h\n",
    "                x1, x2 = (col + 5) * img_w, (col + 6) * img_w  # Shift for LUC_init\n",
    "                montage[y1:y2, x1:x2] = img\n",
    "                    \n",
    "\n",
    "            output_path = os.path.join(output_folder, f\"Montage_{number}_{mode}.tif\")\n",
    "            with tiff.TiffWriter(output_path) as tif:\n",
    "                tif.write(montage)\n",
    "            print(f\"Created montage: {output_path}\")"
   ]
  },
  {
   "cell_type": "code",
   "execution_count": 13,
   "id": "34ff628f-7426-4e1b-9e26-22435cb7bc6a",
   "metadata": {
    "editable": true,
    "slideshow": {
     "slide_type": ""
    },
    "tags": []
   },
   "outputs": [
    {
     "name": "stdout",
     "output_type": "stream",
     "text": [
      "Created montage: /Volumes/arxivBeta/_Tobias/Opera/20250314/02_Galleries_V1/Montage_20000_IM.tif\n",
      "Created montage: /Volumes/arxivBeta/_Tobias/Opera/20250314/02_Galleries_V1/Montage_60000_CM.tif\n",
      "Created montage: /Volumes/arxivBeta/_Tobias/Opera/20250314/02_Galleries_V1/Montage_50000_CM.tif\n",
      "Created montage: /Volumes/arxivBeta/_Tobias/Opera/20250314/02_Galleries_V1/Montage_40000_IM.tif\n",
      "Created montage: /Volumes/arxivBeta/_Tobias/Opera/20250314/02_Galleries_V1/Montage_30000_IM.tif\n",
      "Created montage: /Volumes/arxivBeta/_Tobias/Opera/20250314/02_Galleries_V1/Montage_60000_IM.tif\n",
      "Created montage: /Volumes/arxivBeta/_Tobias/Opera/20250314/02_Galleries_V1/Montage_50000_IM.tif\n",
      "Created montage: /Volumes/arxivBeta/_Tobias/Opera/20250314/02_Galleries_V1/Montage_40000_CM.tif\n",
      "Created montage: /Volumes/arxivBeta/_Tobias/Opera/20250314/02_Galleries_V1/Montage_30000_CM.tif\n",
      "Created montage: /Volumes/arxivBeta/_Tobias/Opera/20250314/02_Galleries_V1/Montage_20000_CM.tif\n"
     ]
    }
   ],
   "source": [
    "input_folder = \"/Volumes/arxivBeta/_Tobias/Opera/20250314/01_Importer\"  \n",
    "output_folder = \"/Volumes/arxivBeta/_Tobias/Opera/20250314/02_Galleries_V1\" \n",
    "\n",
    "max_projection_montage(input_folder, output_folder)"
   ]
  }
 ],
 "metadata": {
  "kernelspec": {
   "display_name": "Python 3 (ipykernel)",
   "language": "python",
   "name": "python3"
  },
  "language_info": {
   "codemirror_mode": {
    "name": "ipython",
    "version": 3
   },
   "file_extension": ".py",
   "mimetype": "text/x-python",
   "name": "python",
   "nbconvert_exporter": "python",
   "pygments_lexer": "ipython3",
   "version": "3.12.7"
  }
 },
 "nbformat": 4,
 "nbformat_minor": 5
}
