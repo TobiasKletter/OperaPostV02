{
 "cells": [
  {
   "cell_type": "code",
   "execution_count": 8,
   "id": "5c1f252b-45b4-4811-8170-305458f44877",
   "metadata": {},
   "outputs": [],
   "source": [
    "import os\n",
    "import re\n",
    "import numpy as np\n",
    "import tifffile as tiff\n",
    "import cv2"
   ]
  },
  {
   "cell_type": "code",
   "execution_count": 9,
   "id": "0ec086f2-1507-48f3-b5fa-4b75d9595f74",
   "metadata": {},
   "outputs": [],
   "source": [
    "def max_projection_montage(input_folder, output_folder):\n",
    "    os.makedirs(output_folder, exist_ok=True)  # Ensure output folder exists\n",
    "    \n",
    "    # Regex to match files containing '-F4' to '-F11'\n",
    "    pattern = re.compile(r'-F([4-9]|10|11)')\n",
    "    \n",
    "    for filename in os.listdir(input_folder):\n",
    "        if filename.endswith(\".tif\") and pattern.search(filename):\n",
    "            input_path = os.path.join(input_folder, filename)\n",
    "            \n",
    "            # Read multi-dimensional TIF file\n",
    "            img = tiff.imread(input_path)\n",
    "            \n",
    "            # Ensure image has correct dimensions (Z, C, H, W) or (C, Z, H, W)\n",
    "            if len(img.shape) == 4:\n",
    "                if img.shape[1] == 4:  # (Z, C, H, W) format\n",
    "                    img = np.moveaxis(img, 1, 0)  # Convert to (C, Z, H, W)\n",
    "                \n",
    "                # Now img is (C, Z, H, W)\n",
    "                channels = [np.max(img[i, :, :, :], axis = 0) for i in range(4)]\n",
    "                \n",
    "                # Normalize each channel to grayscale (0-255)\n",
    "                grayscale_channels = [\n",
    "                    cv2.normalize(ch, None, 0, 255, cv2.NORM_MINMAX).astype(np.uint8)\n",
    "                    for ch in channels\n",
    "                ]\n",
    "                \n",
    "                # Arrange in a 2x2 montage\n",
    "                top_row = np.hstack((grayscale_channels[0], grayscale_channels[1]))\n",
    "                bottom_row = np.hstack((grayscale_channels[2], grayscale_channels[3]))\n",
    "                montage = np.vstack((top_row, bottom_row))\n",
    "                \n",
    "                # Save montage in the output folder\n",
    "                output_path = os.path.join(output_folder, filename)\n",
    "                tiff.imwrite(output_path, montage)\n",
    "                print(f'Processed: {filename}')\n",
    "            else:\n",
    "                print(f'Skipping {filename}: Unexpected image dimensions {img.shape}')\n",
    "    print(\"Done.\")"
   ]
  },
  {
   "cell_type": "code",
   "execution_count": 10,
   "id": "34ff628f-7426-4e1b-9e26-22435cb7bc6a",
   "metadata": {},
   "outputs": [
    {
     "name": "stdout",
     "output_type": "stream",
     "text": [
      "Processed: ID0080_TK_CID_RNAiScreen_63x_ReScan_24h - R02-C02-F4_B2_IM_LUC1_init.tif\n",
      "Processed: ID0080_TK_CID_RNAiScreen_63x_ReScan_24h - R02-C02-F5_B2_IM_LUC1_init.tif\n",
      "Processed: ID0080_TK_CID_RNAiScreen_63x_ReScan_24h - R02-C02-F6_B2_IM_LUC1_init.tif\n",
      "Processed: ID0080_TK_CID_RNAiScreen_63x_ReScan_24h - R02-C02-F7_B2_IM_LUC1_init.tif\n",
      "Processed: ID0080_TK_CID_RNAiScreen_63x_ReScan_24h - R02-C02-F8_B2_IM_LUC1_init.tif\n",
      "Processed: ID0080_TK_CID_RNAiScreen_63x_ReScan_24h - R02-C02-F9_B2_IM_LUC1_init.tif\n",
      "Processed: ID0080_TK_CID_RNAiScreen_63x_ReScan_24h - R02-C02-F10_B2_IM_LUC1_init.tif\n",
      "Processed: ID0080_TK_CID_RNAiScreen_63x_ReScan_24h - R02-C02-F11_B2_IM_LUC1_init.tif\n",
      "Done.\n"
     ]
    }
   ],
   "source": [
    "input_folder = \"/Volumes/arxivBeta/_Tobias/Opera/20250204/Test\"  # Change this to your actual folder path\n",
    "output_folder = \"/Volumes/arxivBeta/_Tobias/Opera/20250204/Test_max_split_channels\"  # Change this to your actual output folder path\n",
    "\n",
    "max_projection_montage(input_folder, output_folder)"
   ]
  }
 ],
 "metadata": {
  "kernelspec": {
   "display_name": "Python 3 (ipykernel)",
   "language": "python",
   "name": "python3"
  },
  "language_info": {
   "codemirror_mode": {
    "name": "ipython",
    "version": 3
   },
   "file_extension": ".py",
   "mimetype": "text/x-python",
   "name": "python",
   "nbconvert_exporter": "python",
   "pygments_lexer": "ipython3",
   "version": "3.12.7"
  }
 },
 "nbformat": 4,
 "nbformat_minor": 5
}
