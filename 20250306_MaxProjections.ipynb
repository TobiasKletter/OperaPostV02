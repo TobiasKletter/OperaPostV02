{
 "cells": [
  {
   "cell_type": "code",
   "execution_count": 4,
   "id": "5c1f252b-45b4-4811-8170-305458f44877",
   "metadata": {},
   "outputs": [],
   "source": [
    "import os\n",
    "import re\n",
    "import numpy as np\n",
    "import tifffile as tiff"
   ]
  },
  {
   "cell_type": "code",
   "execution_count": 5,
   "id": "0ec086f2-1507-48f3-b5fa-4b75d9595f74",
   "metadata": {},
   "outputs": [],
   "source": [
    "def max_projection(input_folder, output_folder):\n",
    "    os.makedirs(output_folder, exist_ok = True)  # Ensure output folder exists\n",
    "    \n",
    "    # Regex to match files containing '-F4' to '-F11'\n",
    "    pattern = re.compile(r'-F([4-9]|10|11)')\n",
    "    \n",
    "    for filename in os.listdir(input_folder):\n",
    "        if filename.endswith(\".tif\") and pattern.search(filename):\n",
    "            input_path = os.path.join(input_folder, filename)\n",
    "            \n",
    "            # Read multi-dimensional TIF file\n",
    "            img = tiff.imread(input_path)\n",
    "            \n",
    "            # Perform max projection along the first axis (Z-axis)\n",
    "            projected_img = np.max(img, axis = 0)\n",
    "            \n",
    "            # Save projected image in the output folder\n",
    "            output_path = os.path.join(output_folder, filename)\n",
    "            tiff.imwrite(output_path, projected_img)\n",
    "            print(f'Processed: {filename}')\n",
    "    print(\"Done.\")"
   ]
  },
  {
   "cell_type": "code",
   "execution_count": 6,
   "id": "34ff628f-7426-4e1b-9e26-22435cb7bc6a",
   "metadata": {},
   "outputs": [
    {
     "name": "stdout",
     "output_type": "stream",
     "text": [
      "Processed: ID0080_TK_CID_RNAiScreen_63x_ReScan_24h - R02-C02-F4_B2_IM_LUC1_init.tif\n",
      "Processed: ID0080_TK_CID_RNAiScreen_63x_ReScan_24h - R02-C02-F5_B2_IM_LUC1_init.tif\n",
      "Processed: ID0080_TK_CID_RNAiScreen_63x_ReScan_24h - R02-C02-F6_B2_IM_LUC1_init.tif\n",
      "Processed: ID0080_TK_CID_RNAiScreen_63x_ReScan_24h - R02-C02-F7_B2_IM_LUC1_init.tif\n",
      "Processed: ID0080_TK_CID_RNAiScreen_63x_ReScan_24h - R02-C02-F8_B2_IM_LUC1_init.tif\n",
      "Processed: ID0080_TK_CID_RNAiScreen_63x_ReScan_24h - R02-C02-F9_B2_IM_LUC1_init.tif\n",
      "Processed: ID0080_TK_CID_RNAiScreen_63x_ReScan_24h - R02-C02-F10_B2_IM_LUC1_init.tif\n",
      "Processed: ID0080_TK_CID_RNAiScreen_63x_ReScan_24h - R02-C02-F11_B2_IM_LUC1_init.tif\n",
      "Done.\n"
     ]
    }
   ],
   "source": [
    "input_folder = \"/Volumes/arxivBeta/_Tobias/Opera/20250204/Test\"  # Change this to your actual folder path\n",
    "output_folder = \"/Volumes/arxivBeta/_Tobias/Opera/20250204/Test_max\"  # Change this to your actual output folder path\n",
    "\n",
    "max_projection(input_folder, output_folder)"
   ]
  }
 ],
 "metadata": {
  "kernelspec": {
   "display_name": "Python 3 (ipykernel)",
   "language": "python",
   "name": "python3"
  },
  "language_info": {
   "codemirror_mode": {
    "name": "ipython",
    "version": 3
   },
   "file_extension": ".py",
   "mimetype": "text/x-python",
   "name": "python",
   "nbconvert_exporter": "python",
   "pygments_lexer": "ipython3",
   "version": "3.12.7"
  }
 },
 "nbformat": 4,
 "nbformat_minor": 5
}
